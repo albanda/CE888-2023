{
 "cells": [
  {
   "cell_type": "code",
   "execution_count": null,
   "id": "initial_id",
   "metadata": {
    "ExecuteTime": {
     "end_time": "2024-02-11T14:46:31.863444900Z",
     "start_time": "2024-02-11T14:46:31.577107400Z"
    }
   },
   "outputs": [],
   "source": [
    "import warnings\n",
    "warnings.filterwarnings('ignore')\n",
    "# imports\n",
    "import numpy as np\n",
    "import matplotlib.pyplot as plt\n",
    "import pandas as pd\n",
    "import seaborn as sns\n",
    "from matplotlib.lines import Line2D\n",
    "from itertools import product\n",
    "# For seasonal decomposition\n",
    "from statsmodels.tsa.seasonal import seasonal_decompose, STL\n",
    "# Import additional functions needed\n",
    "from statsmodels.tsa.stattools import adfuller, kpss\n",
    "from statsmodels.graphics.tsaplots import plot_acf, plot_pacf\n",
    "from statsmodels.tsa.statespace.sarimax import SARIMAX\n",
    "from statsmodels.stats.diagnostic import acorr_ljungbox\n",
    "# to measure model performance\n",
    "from sklearn.metrics import mean_absolute_error, mean_absolute_percentage_error, r2_score, mean_squared_error\n",
    "# To model with sklearn\n",
    "from sklearn.linear_model import Lasso, Ridge, LinearRegression, HuberRegressor, ElasticNet"
   ]
  },
  {
   "cell_type": "code",
   "execution_count": null,
   "id": "68bb68c43a720281",
   "metadata": {
    "ExecuteTime": {
     "end_time": "2024-02-11T14:46:51.585043900Z",
     "start_time": "2024-02-11T14:46:51.474561300Z"
    },
    "collapsed": false
   },
   "outputs": [],
   "source": [
    "# Some code to help you load the data in the right format\n",
    "df = pd.read_csv('Hourly-train.csv', index_col=0)\n",
    "df = df.transpose()\n",
    "index = pd.date_range(start='2024-01-01', periods=len(df), freq='h')\n",
    "df.set_index(index, inplace=True)\n",
    "df.head()"
   ]
  },
  {
   "cell_type": "code",
   "execution_count": null,
   "id": "2abadfd7-4125-440a-8604-6140f9dddd75",
   "metadata": {},
   "outputs": [],
   "source": [
    "# Your code from here onwards"
   ]
  }
 ],
 "metadata": {
  "kernelspec": {
   "display_name": "Python 3 (ipykernel)",
   "language": "python",
   "name": "python3"
  },
  "language_info": {
   "codemirror_mode": {
    "name": "ipython",
    "version": 3
   },
   "file_extension": ".py",
   "mimetype": "text/x-python",
   "name": "python",
   "nbconvert_exporter": "python",
   "pygments_lexer": "ipython3",
   "version": "3.9.18"
  }
 },
 "nbformat": 4,
 "nbformat_minor": 5
}
